{
 "cells": [
  {
   "cell_type": "markdown",
   "id": "23be8ce6",
   "metadata": {},
   "source": [
    "# BRCA1 Expression Prediction using Enformer"
   ]
  },
  {
   "cell_type": "code",
   "execution_count": null,
   "id": "48baef3b",
   "metadata": {},
   "outputs": [],
   "source": [
    "\n",
    "import numpy as np\n",
    "import tensorflow as tf\n",
    "import tensorflow_hub as hub\n",
    "from Bio import SeqIO\n",
    "import matplotlib.pyplot as plt\n"
   ]
  },
  {
   "cell_type": "markdown",
   "id": "66329c35",
   "metadata": {},
   "source": [
    "## Load Enformer Model"
   ]
  },
  {
   "cell_type": "code",
   "execution_count": null,
   "id": "03a50675",
   "metadata": {},
   "outputs": [],
   "source": [
    "\n",
    "print(\"Loading Enformer...\")\n",
    "enformer = hub.load(\"https://tfhub.dev/deepmind/enformer/1\")\n",
    "model = enformer.model  # Access the callable model\n"
   ]
  },
  {
   "cell_type": "markdown",
   "id": "bce90f03",
   "metadata": {},
   "source": [
    "## Load and Preprocess DNA Sequence"
   ]
  },
  {
   "cell_type": "code",
   "execution_count": null,
   "id": "72c93e2e",
   "metadata": {},
   "outputs": [],
   "source": [
    "\n",
    "sequence = str(SeqIO.read(\"brca1_sequence.fa\", \"fasta\").seq).upper()\n",
    "SEQUENCE_LENGTH = 393216\n",
    "sequence = sequence[:SEQUENCE_LENGTH].ljust(SEQUENCE_LENGTH, \"N\")\n",
    "\n",
    "def one_hot_encode(seq):\n",
    "    mapping = {\"A\": 0, \"C\": 1, \"G\": 2, \"T\": 3}\n",
    "    arr = np.zeros((SEQUENCE_LENGTH, 4), dtype=np.float32)\n",
    "    for i, base in enumerate(seq):\n",
    "        if base in mapping:\n",
    "            arr[i, mapping[base]] = 1.0\n",
    "    return arr\n",
    "\n",
    "inputs = tf.constant(one_hot_encode(sequence)[np.newaxis, ...])  # Shape: (1, 393216, 4)\n"
   ]
  },
  {
   "cell_type": "markdown",
   "id": "152597f1",
   "metadata": {},
   "source": [
    "## Run Prediction"
   ]
  },
  {
   "cell_type": "code",
   "execution_count": null,
   "id": "80ca41f1",
   "metadata": {},
   "outputs": [],
   "source": [
    "\n",
    "print(\"Running prediction...\")\n",
    "outputs = model.predict_on_batch(inputs)\n",
    "print(\"Available outputs:\", outputs.keys())\n",
    "print(\"Output shape (human):\", outputs['human'].shape)\n"
   ]
  },
  {
   "cell_type": "markdown",
   "id": "99936856",
   "metadata": {},
   "source": [
    "## Extract Ovary Prediction"
   ]
  },
  {
   "cell_type": "code",
   "execution_count": null,
   "id": "e5125196",
   "metadata": {},
   "outputs": [],
   "source": [
    "\n",
    "target_names = [  # Partial list\n",
    "    \"CAGE:adipose_subcutaneous\", \"CAGE:adipose_visceral_omentum\", \"CAGE:adrenal_gland\",\n",
    "    \"CAGE:artery_aorta\", \"CAGE:artery_coronary\", \"CAGE:artery_tibial\", \"CAGE:bladder\",\n",
    "    \"CAGE:brain_amygdala\", \"CAGE:brain_anterior_cingulate_cortex_ba24\", \"CAGE:brain_caudate_basal_ganglia\",\n",
    "    \"CAGE:brain_cerebellar_hemisphere\", \"CAGE:brain_cerebellum\", \"CAGE:brain_cortex\",\n",
    "    \"CAGE:brain_frontal_cortex_ba9\", \"CAGE:brain_hippocampus\", \"CAGE:brain_hypothalamus\",\n",
    "    \"CAGE:brain_nucleus_accumbens_basal_ganglia\", \"CAGE:brain_putamen_basal_ganglia\",\n",
    "    \"CAGE:brain_spinal_cord_cervical_c-1\", \"CAGE:brain_substantia_nigra\", \"CAGE:breast_mammary_tissue\",\n",
    "    \"CAGE:cells_cultured_fibroblasts\", \"CAGE:cells_ebv-transformed_lymphocytes\", \"CAGE:colon_sigmoid\",\n",
    "    \"CAGE:colon_transverse\", \"CAGE:esophagus_gastroesophageal_junction\", \"CAGE:esophagus_mucosa\",\n",
    "    \"CAGE:esophagus_muscularis\", \"CAGE:fallopian_tube\", \"CAGE:heart_atrial_appendage\",\n",
    "    \"CAGE:heart_left_ventricle\", \"CAGE:kidney_cortex\", \"CAGE:liver\", \"CAGE:lung\",\n",
    "    \"CAGE:minor_salivary_gland\", \"CAGE:muscle_skeletal\", \"CAGE:nerve_tibial\", \"CAGE:ovary\",\n",
    "    \"CAGE:pancreas\", \"CAGE:pituitary\", \"CAGE:prostate\", \"CAGE:skin_not_sun_exposed_suprapubic\",\n",
    "    \"CAGE:skin_sun_exposed_lower_leg\", \"CAGE:small_intestine_terminal_ileum\", \"CAGE:spleen\",\n",
    "    \"CAGE:stomach\", \"CAGE:testis\", \"CAGE:thyroid\", \"CAGE:uterus\", \"CAGE:vagina\", \"CAGE:whole_blood\"\n",
    "]\n",
    "\n",
    "ovary_index = target_names.index(\"CAGE:ovary\")\n",
    "center_bin = 448\n",
    "window = 5\n",
    "ovary_track = ovary_index\n",
    "\n",
    "ovary_prediction = tf.reduce_mean(outputs['human'][0, center_bin - window : center_bin + window + 1, ovary_track])\n",
    "print(\"Predicted BRCA1 expression in ovary (arbitrary units):\", ovary_prediction.numpy())\n"
   ]
  },
  {
   "cell_type": "markdown",
   "id": "eb892ec7",
   "metadata": {},
   "source": [
    "## Visualization: Enformer vs GTEx"
   ]
  },
  {
   "cell_type": "code",
   "execution_count": null,
   "id": "fe342d47",
   "metadata": {},
   "outputs": [],
   "source": [
    "\n",
    "tissues = ['Ovary']\n",
    "enformer_pred = [0.23]\n",
    "gtex_tpm = [2.0]\n",
    "\n",
    "x = range(len(tissues))\n",
    "width = 0.4\n",
    "\n",
    "fig, ax = plt.subplots()\n",
    "ax.bar(x, enformer_pred, width=width, label='Enformer Prediction (a.u.)', color='skyblue')\n",
    "ax.bar([i + width for i in x], gtex_tpm, width=width, label='GTEx Median TPM', color='salmon')\n",
    "\n",
    "ax.set_ylabel('Expression Level')\n",
    "ax.set_title('BRCA1 Expression in Ovary\\n(Enformer Prediction vs GTEx TPM)')\n",
    "ax.set_xticks([i + width/2 for i in x])\n",
    "ax.set_xticklabels(tissues)\n",
    "ax.legend()\n",
    "\n",
    "plt.show()\n"
   ]
  }
 ],
 "metadata": {},
 "nbformat": 4,
 "nbformat_minor": 5
}
